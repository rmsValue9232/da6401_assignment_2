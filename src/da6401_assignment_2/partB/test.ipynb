{
 "cells": [
  {
   "cell_type": "code",
   "execution_count": 1,
   "id": "ad910ec6",
   "metadata": {},
   "outputs": [],
   "source": [
    "import torch\n",
    "import lightning as pl\n",
    "import torchmetrics.functional as metricfunctions\n",
    "import torchvision.models as models"
   ]
  },
  {
   "cell_type": "code",
   "execution_count": 2,
   "id": "052677e3",
   "metadata": {},
   "outputs": [
    {
     "name": "stderr",
     "output_type": "stream",
     "text": [
      "c:\\Users\\adity\\.conda\\envs\\lightningML\\lib\\site-packages\\torchvision\\models\\_utils.py:135: Using 'weights' as positional parameter(s) is deprecated since 0.13 and may be removed in the future. Please use keyword parameter(s) instead.\n"
     ]
    }
   ],
   "source": [
    "model = models.resnet50(models.ResNet50_Weights.IMAGENET1K_V2)"
   ]
  },
  {
   "cell_type": "code",
   "execution_count": 3,
   "id": "b74b7ca2",
   "metadata": {},
   "outputs": [
    {
     "data": {
      "text/plain": [
       "torch.Size([7, 1000])"
      ]
     },
     "execution_count": 3,
     "metadata": {},
     "output_type": "execute_result"
    }
   ],
   "source": [
    "x = torch.rand(7, 3, 224, 224)\n",
    "y = model(x)\n",
    "y.shape"
   ]
  },
  {
   "cell_type": "code",
   "execution_count": 4,
   "id": "e1a231b6",
   "metadata": {},
   "outputs": [],
   "source": [
    "children_list = list(model.children())[:-1]"
   ]
  },
  {
   "cell_type": "code",
   "execution_count": 14,
   "id": "43ad6ea6",
   "metadata": {},
   "outputs": [
    {
     "data": {
      "text/plain": [
       "torch.Size([7, 2048, 1, 1])"
      ]
     },
     "execution_count": 14,
     "metadata": {},
     "output_type": "execute_result"
    }
   ],
   "source": [
    "feature_ext = torch.nn.Sequential(*children_list)\n",
    "feature_ext.eval()\n",
    "feature_ext.requires_grad_(False)\n",
    "\n",
    "y = feature_ext(x)\n",
    "y.shape"
   ]
  },
  {
   "cell_type": "code",
   "execution_count": 20,
   "id": "7c386086",
   "metadata": {},
   "outputs": [
    {
     "data": {
      "text/plain": [
       "Sequential(\n",
       "  (0): Conv2d(3, 64, kernel_size=(7, 7), stride=(2, 2), padding=(3, 3), bias=False)\n",
       "  (1): BatchNorm2d(64, eps=1e-05, momentum=0.1, affine=True, track_running_stats=True)\n",
       "  (2): ReLU(inplace=True)\n",
       "  (3): MaxPool2d(kernel_size=3, stride=2, padding=1, dilation=1, ceil_mode=False)\n",
       "  (4): Sequential(\n",
       "    (0): Bottleneck(\n",
       "      (conv1): Conv2d(64, 64, kernel_size=(1, 1), stride=(1, 1), bias=False)\n",
       "      (bn1): BatchNorm2d(64, eps=1e-05, momentum=0.1, affine=True, track_running_stats=True)\n",
       "      (conv2): Conv2d(64, 64, kernel_size=(3, 3), stride=(1, 1), padding=(1, 1), bias=False)\n",
       "      (bn2): BatchNorm2d(64, eps=1e-05, momentum=0.1, affine=True, track_running_stats=True)\n",
       "      (conv3): Conv2d(64, 256, kernel_size=(1, 1), stride=(1, 1), bias=False)\n",
       "      (bn3): BatchNorm2d(256, eps=1e-05, momentum=0.1, affine=True, track_running_stats=True)\n",
       "      (relu): ReLU(inplace=True)\n",
       "      (downsample): Sequential(\n",
       "        (0): Conv2d(64, 256, kernel_size=(1, 1), stride=(1, 1), bias=False)\n",
       "        (1): BatchNorm2d(256, eps=1e-05, momentum=0.1, affine=True, track_running_stats=True)\n",
       "      )\n",
       "    )\n",
       "    (1): Bottleneck(\n",
       "      (conv1): Conv2d(256, 64, kernel_size=(1, 1), stride=(1, 1), bias=False)\n",
       "      (bn1): BatchNorm2d(64, eps=1e-05, momentum=0.1, affine=True, track_running_stats=True)\n",
       "      (conv2): Conv2d(64, 64, kernel_size=(3, 3), stride=(1, 1), padding=(1, 1), bias=False)\n",
       "      (bn2): BatchNorm2d(64, eps=1e-05, momentum=0.1, affine=True, track_running_stats=True)\n",
       "      (conv3): Conv2d(64, 256, kernel_size=(1, 1), stride=(1, 1), bias=False)\n",
       "      (bn3): BatchNorm2d(256, eps=1e-05, momentum=0.1, affine=True, track_running_stats=True)\n",
       "      (relu): ReLU(inplace=True)\n",
       "    )\n",
       "    (2): Bottleneck(\n",
       "      (conv1): Conv2d(256, 64, kernel_size=(1, 1), stride=(1, 1), bias=False)\n",
       "      (bn1): BatchNorm2d(64, eps=1e-05, momentum=0.1, affine=True, track_running_stats=True)\n",
       "      (conv2): Conv2d(64, 64, kernel_size=(3, 3), stride=(1, 1), padding=(1, 1), bias=False)\n",
       "      (bn2): BatchNorm2d(64, eps=1e-05, momentum=0.1, affine=True, track_running_stats=True)\n",
       "      (conv3): Conv2d(64, 256, kernel_size=(1, 1), stride=(1, 1), bias=False)\n",
       "      (bn3): BatchNorm2d(256, eps=1e-05, momentum=0.1, affine=True, track_running_stats=True)\n",
       "      (relu): ReLU(inplace=True)\n",
       "    )\n",
       "  )\n",
       "  (5): Sequential(\n",
       "    (0): Bottleneck(\n",
       "      (conv1): Conv2d(256, 128, kernel_size=(1, 1), stride=(1, 1), bias=False)\n",
       "      (bn1): BatchNorm2d(128, eps=1e-05, momentum=0.1, affine=True, track_running_stats=True)\n",
       "      (conv2): Conv2d(128, 128, kernel_size=(3, 3), stride=(2, 2), padding=(1, 1), bias=False)\n",
       "      (bn2): BatchNorm2d(128, eps=1e-05, momentum=0.1, affine=True, track_running_stats=True)\n",
       "      (conv3): Conv2d(128, 512, kernel_size=(1, 1), stride=(1, 1), bias=False)\n",
       "      (bn3): BatchNorm2d(512, eps=1e-05, momentum=0.1, affine=True, track_running_stats=True)\n",
       "      (relu): ReLU(inplace=True)\n",
       "      (downsample): Sequential(\n",
       "        (0): Conv2d(256, 512, kernel_size=(1, 1), stride=(2, 2), bias=False)\n",
       "        (1): BatchNorm2d(512, eps=1e-05, momentum=0.1, affine=True, track_running_stats=True)\n",
       "      )\n",
       "    )\n",
       "    (1): Bottleneck(\n",
       "      (conv1): Conv2d(512, 128, kernel_size=(1, 1), stride=(1, 1), bias=False)\n",
       "      (bn1): BatchNorm2d(128, eps=1e-05, momentum=0.1, affine=True, track_running_stats=True)\n",
       "      (conv2): Conv2d(128, 128, kernel_size=(3, 3), stride=(1, 1), padding=(1, 1), bias=False)\n",
       "      (bn2): BatchNorm2d(128, eps=1e-05, momentum=0.1, affine=True, track_running_stats=True)\n",
       "      (conv3): Conv2d(128, 512, kernel_size=(1, 1), stride=(1, 1), bias=False)\n",
       "      (bn3): BatchNorm2d(512, eps=1e-05, momentum=0.1, affine=True, track_running_stats=True)\n",
       "      (relu): ReLU(inplace=True)\n",
       "    )\n",
       "    (2): Bottleneck(\n",
       "      (conv1): Conv2d(512, 128, kernel_size=(1, 1), stride=(1, 1), bias=False)\n",
       "      (bn1): BatchNorm2d(128, eps=1e-05, momentum=0.1, affine=True, track_running_stats=True)\n",
       "      (conv2): Conv2d(128, 128, kernel_size=(3, 3), stride=(1, 1), padding=(1, 1), bias=False)\n",
       "      (bn2): BatchNorm2d(128, eps=1e-05, momentum=0.1, affine=True, track_running_stats=True)\n",
       "      (conv3): Conv2d(128, 512, kernel_size=(1, 1), stride=(1, 1), bias=False)\n",
       "      (bn3): BatchNorm2d(512, eps=1e-05, momentum=0.1, affine=True, track_running_stats=True)\n",
       "      (relu): ReLU(inplace=True)\n",
       "    )\n",
       "    (3): Bottleneck(\n",
       "      (conv1): Conv2d(512, 128, kernel_size=(1, 1), stride=(1, 1), bias=False)\n",
       "      (bn1): BatchNorm2d(128, eps=1e-05, momentum=0.1, affine=True, track_running_stats=True)\n",
       "      (conv2): Conv2d(128, 128, kernel_size=(3, 3), stride=(1, 1), padding=(1, 1), bias=False)\n",
       "      (bn2): BatchNorm2d(128, eps=1e-05, momentum=0.1, affine=True, track_running_stats=True)\n",
       "      (conv3): Conv2d(128, 512, kernel_size=(1, 1), stride=(1, 1), bias=False)\n",
       "      (bn3): BatchNorm2d(512, eps=1e-05, momentum=0.1, affine=True, track_running_stats=True)\n",
       "      (relu): ReLU(inplace=True)\n",
       "    )\n",
       "  )\n",
       "  (6): Sequential(\n",
       "    (0): Bottleneck(\n",
       "      (conv1): Conv2d(512, 256, kernel_size=(1, 1), stride=(1, 1), bias=False)\n",
       "      (bn1): BatchNorm2d(256, eps=1e-05, momentum=0.1, affine=True, track_running_stats=True)\n",
       "      (conv2): Conv2d(256, 256, kernel_size=(3, 3), stride=(2, 2), padding=(1, 1), bias=False)\n",
       "      (bn2): BatchNorm2d(256, eps=1e-05, momentum=0.1, affine=True, track_running_stats=True)\n",
       "      (conv3): Conv2d(256, 1024, kernel_size=(1, 1), stride=(1, 1), bias=False)\n",
       "      (bn3): BatchNorm2d(1024, eps=1e-05, momentum=0.1, affine=True, track_running_stats=True)\n",
       "      (relu): ReLU(inplace=True)\n",
       "      (downsample): Sequential(\n",
       "        (0): Conv2d(512, 1024, kernel_size=(1, 1), stride=(2, 2), bias=False)\n",
       "        (1): BatchNorm2d(1024, eps=1e-05, momentum=0.1, affine=True, track_running_stats=True)\n",
       "      )\n",
       "    )\n",
       "    (1): Bottleneck(\n",
       "      (conv1): Conv2d(1024, 256, kernel_size=(1, 1), stride=(1, 1), bias=False)\n",
       "      (bn1): BatchNorm2d(256, eps=1e-05, momentum=0.1, affine=True, track_running_stats=True)\n",
       "      (conv2): Conv2d(256, 256, kernel_size=(3, 3), stride=(1, 1), padding=(1, 1), bias=False)\n",
       "      (bn2): BatchNorm2d(256, eps=1e-05, momentum=0.1, affine=True, track_running_stats=True)\n",
       "      (conv3): Conv2d(256, 1024, kernel_size=(1, 1), stride=(1, 1), bias=False)\n",
       "      (bn3): BatchNorm2d(1024, eps=1e-05, momentum=0.1, affine=True, track_running_stats=True)\n",
       "      (relu): ReLU(inplace=True)\n",
       "    )\n",
       "    (2): Bottleneck(\n",
       "      (conv1): Conv2d(1024, 256, kernel_size=(1, 1), stride=(1, 1), bias=False)\n",
       "      (bn1): BatchNorm2d(256, eps=1e-05, momentum=0.1, affine=True, track_running_stats=True)\n",
       "      (conv2): Conv2d(256, 256, kernel_size=(3, 3), stride=(1, 1), padding=(1, 1), bias=False)\n",
       "      (bn2): BatchNorm2d(256, eps=1e-05, momentum=0.1, affine=True, track_running_stats=True)\n",
       "      (conv3): Conv2d(256, 1024, kernel_size=(1, 1), stride=(1, 1), bias=False)\n",
       "      (bn3): BatchNorm2d(1024, eps=1e-05, momentum=0.1, affine=True, track_running_stats=True)\n",
       "      (relu): ReLU(inplace=True)\n",
       "    )\n",
       "    (3): Bottleneck(\n",
       "      (conv1): Conv2d(1024, 256, kernel_size=(1, 1), stride=(1, 1), bias=False)\n",
       "      (bn1): BatchNorm2d(256, eps=1e-05, momentum=0.1, affine=True, track_running_stats=True)\n",
       "      (conv2): Conv2d(256, 256, kernel_size=(3, 3), stride=(1, 1), padding=(1, 1), bias=False)\n",
       "      (bn2): BatchNorm2d(256, eps=1e-05, momentum=0.1, affine=True, track_running_stats=True)\n",
       "      (conv3): Conv2d(256, 1024, kernel_size=(1, 1), stride=(1, 1), bias=False)\n",
       "      (bn3): BatchNorm2d(1024, eps=1e-05, momentum=0.1, affine=True, track_running_stats=True)\n",
       "      (relu): ReLU(inplace=True)\n",
       "    )\n",
       "    (4): Bottleneck(\n",
       "      (conv1): Conv2d(1024, 256, kernel_size=(1, 1), stride=(1, 1), bias=False)\n",
       "      (bn1): BatchNorm2d(256, eps=1e-05, momentum=0.1, affine=True, track_running_stats=True)\n",
       "      (conv2): Conv2d(256, 256, kernel_size=(3, 3), stride=(1, 1), padding=(1, 1), bias=False)\n",
       "      (bn2): BatchNorm2d(256, eps=1e-05, momentum=0.1, affine=True, track_running_stats=True)\n",
       "      (conv3): Conv2d(256, 1024, kernel_size=(1, 1), stride=(1, 1), bias=False)\n",
       "      (bn3): BatchNorm2d(1024, eps=1e-05, momentum=0.1, affine=True, track_running_stats=True)\n",
       "      (relu): ReLU(inplace=True)\n",
       "    )\n",
       "    (5): Bottleneck(\n",
       "      (conv1): Conv2d(1024, 256, kernel_size=(1, 1), stride=(1, 1), bias=False)\n",
       "      (bn1): BatchNorm2d(256, eps=1e-05, momentum=0.1, affine=True, track_running_stats=True)\n",
       "      (conv2): Conv2d(256, 256, kernel_size=(3, 3), stride=(1, 1), padding=(1, 1), bias=False)\n",
       "      (bn2): BatchNorm2d(256, eps=1e-05, momentum=0.1, affine=True, track_running_stats=True)\n",
       "      (conv3): Conv2d(256, 1024, kernel_size=(1, 1), stride=(1, 1), bias=False)\n",
       "      (bn3): BatchNorm2d(1024, eps=1e-05, momentum=0.1, affine=True, track_running_stats=True)\n",
       "      (relu): ReLU(inplace=True)\n",
       "    )\n",
       "  )\n",
       "  (7): Sequential(\n",
       "    (0): Bottleneck(\n",
       "      (conv1): Conv2d(1024, 512, kernel_size=(1, 1), stride=(1, 1), bias=False)\n",
       "      (bn1): BatchNorm2d(512, eps=1e-05, momentum=0.1, affine=True, track_running_stats=True)\n",
       "      (conv2): Conv2d(512, 512, kernel_size=(3, 3), stride=(2, 2), padding=(1, 1), bias=False)\n",
       "      (bn2): BatchNorm2d(512, eps=1e-05, momentum=0.1, affine=True, track_running_stats=True)\n",
       "      (conv3): Conv2d(512, 2048, kernel_size=(1, 1), stride=(1, 1), bias=False)\n",
       "      (bn3): BatchNorm2d(2048, eps=1e-05, momentum=0.1, affine=True, track_running_stats=True)\n",
       "      (relu): ReLU(inplace=True)\n",
       "      (downsample): Sequential(\n",
       "        (0): Conv2d(1024, 2048, kernel_size=(1, 1), stride=(2, 2), bias=False)\n",
       "        (1): BatchNorm2d(2048, eps=1e-05, momentum=0.1, affine=True, track_running_stats=True)\n",
       "      )\n",
       "    )\n",
       "    (1): Bottleneck(\n",
       "      (conv1): Conv2d(2048, 512, kernel_size=(1, 1), stride=(1, 1), bias=False)\n",
       "      (bn1): BatchNorm2d(512, eps=1e-05, momentum=0.1, affine=True, track_running_stats=True)\n",
       "      (conv2): Conv2d(512, 512, kernel_size=(3, 3), stride=(1, 1), padding=(1, 1), bias=False)\n",
       "      (bn2): BatchNorm2d(512, eps=1e-05, momentum=0.1, affine=True, track_running_stats=True)\n",
       "      (conv3): Conv2d(512, 2048, kernel_size=(1, 1), stride=(1, 1), bias=False)\n",
       "      (bn3): BatchNorm2d(2048, eps=1e-05, momentum=0.1, affine=True, track_running_stats=True)\n",
       "      (relu): ReLU(inplace=True)\n",
       "    )\n",
       "    (2): Bottleneck(\n",
       "      (conv1): Conv2d(2048, 512, kernel_size=(1, 1), stride=(1, 1), bias=False)\n",
       "      (bn1): BatchNorm2d(512, eps=1e-05, momentum=0.1, affine=True, track_running_stats=True)\n",
       "      (conv2): Conv2d(512, 512, kernel_size=(3, 3), stride=(1, 1), padding=(1, 1), bias=False)\n",
       "      (bn2): BatchNorm2d(512, eps=1e-05, momentum=0.1, affine=True, track_running_stats=True)\n",
       "      (conv3): Conv2d(512, 2048, kernel_size=(1, 1), stride=(1, 1), bias=False)\n",
       "      (bn3): BatchNorm2d(2048, eps=1e-05, momentum=0.1, affine=True, track_running_stats=True)\n",
       "      (relu): ReLU(inplace=True)\n",
       "    )\n",
       "  )\n",
       "  (8): AdaptiveAvgPool2d(output_size=(1, 1))\n",
       ")"
      ]
     },
     "execution_count": 20,
     "metadata": {},
     "output_type": "execute_result"
    }
   ],
   "source": [
    "feature_ext"
   ]
  },
  {
   "cell_type": "code",
   "execution_count": 15,
   "id": "e45ec904",
   "metadata": {},
   "outputs": [
    {
     "data": {
      "text/plain": [
       "torch.Size([7, 2048])"
      ]
     },
     "execution_count": 15,
     "metadata": {},
     "output_type": "execute_result"
    }
   ],
   "source": [
    "y = torch.flatten(y, 1)\n",
    "y.shape"
   ]
  },
  {
   "cell_type": "code",
   "execution_count": 17,
   "id": "e42538de",
   "metadata": {},
   "outputs": [
    {
     "data": {
      "text/plain": [
       "torch.Size([7, 10])"
      ]
     },
     "execution_count": 17,
     "metadata": {},
     "output_type": "execute_result"
    }
   ],
   "source": [
    "a = torch.nn.Linear(2048, 10)(y)\n",
    "\n",
    "a.shape"
   ]
  },
  {
   "cell_type": "code",
   "execution_count": 18,
   "id": "bb4f6138",
   "metadata": {},
   "outputs": [
    {
     "data": {
      "text/plain": [
       "tensor([[-0.0530,  0.1222,  0.0752,  0.0423,  0.1954,  0.1212, -0.4607,  0.0977,\n",
       "         -0.0191,  0.2776],\n",
       "        [-0.0783,  0.1303,  0.0201,  0.0136,  0.1872,  0.0947, -0.4896,  0.0614,\n",
       "         -0.0149,  0.2542],\n",
       "        [-0.0585,  0.1048,  0.0442,  0.0411,  0.1976,  0.1062, -0.4876,  0.0674,\n",
       "          0.0051,  0.2633],\n",
       "        [-0.1028,  0.1168,  0.0222,  0.0119,  0.2059,  0.1052, -0.4531,  0.0645,\n",
       "         -0.0067,  0.2621],\n",
       "        [-0.0764,  0.0990,  0.0407,  0.0368,  0.1899,  0.1107, -0.4822,  0.0641,\n",
       "         -0.0133,  0.2560],\n",
       "        [-0.0516,  0.1027,  0.0254,  0.0449,  0.1913,  0.1286, -0.4861,  0.1037,\n",
       "          0.0130,  0.2487],\n",
       "        [-0.0678,  0.1202,  0.0237,  0.0323,  0.2086,  0.0855, -0.4472,  0.0967,\n",
       "          0.0072,  0.2797]], grad_fn=<AddmmBackward0>)"
      ]
     },
     "execution_count": 18,
     "metadata": {},
     "output_type": "execute_result"
    }
   ],
   "source": [
    "a"
   ]
  },
  {
   "cell_type": "code",
   "execution_count": 19,
   "id": "0a75502f",
   "metadata": {},
   "outputs": [
    {
     "data": {
      "text/plain": [
       "tensor([9, 9, 9, 9, 9, 9, 9])"
      ]
     },
     "execution_count": 19,
     "metadata": {},
     "output_type": "execute_result"
    }
   ],
   "source": [
    "a.argmax(dim=1)"
   ]
  },
  {
   "cell_type": "code",
   "execution_count": 20,
   "id": "067a9b92",
   "metadata": {},
   "outputs": [
    {
     "name": "stdout",
     "output_type": "stream",
     "text": [
      "param\t0\tshaped\ttorch.Size([64, 3, 7, 7])\t\t\trequires_grad = False\n",
      "param\t1\tshaped\ttorch.Size([64])\t\t\trequires_grad = False\n",
      "param\t2\tshaped\ttorch.Size([64])\t\t\trequires_grad = False\n",
      "param\t3\tshaped\ttorch.Size([64, 64, 1, 1])\t\t\trequires_grad = False\n",
      "param\t4\tshaped\ttorch.Size([64])\t\t\trequires_grad = False\n",
      "param\t5\tshaped\ttorch.Size([64])\t\t\trequires_grad = False\n",
      "param\t6\tshaped\ttorch.Size([64, 64, 3, 3])\t\t\trequires_grad = False\n",
      "param\t7\tshaped\ttorch.Size([64])\t\t\trequires_grad = False\n",
      "param\t8\tshaped\ttorch.Size([64])\t\t\trequires_grad = False\n",
      "param\t9\tshaped\ttorch.Size([256, 64, 1, 1])\t\t\trequires_grad = False\n",
      "param\t10\tshaped\ttorch.Size([256])\t\t\trequires_grad = False\n",
      "param\t11\tshaped\ttorch.Size([256])\t\t\trequires_grad = False\n",
      "param\t12\tshaped\ttorch.Size([256, 64, 1, 1])\t\t\trequires_grad = False\n",
      "param\t13\tshaped\ttorch.Size([256])\t\t\trequires_grad = False\n",
      "param\t14\tshaped\ttorch.Size([256])\t\t\trequires_grad = False\n",
      "param\t15\tshaped\ttorch.Size([64, 256, 1, 1])\t\t\trequires_grad = False\n",
      "param\t16\tshaped\ttorch.Size([64])\t\t\trequires_grad = False\n",
      "param\t17\tshaped\ttorch.Size([64])\t\t\trequires_grad = False\n",
      "param\t18\tshaped\ttorch.Size([64, 64, 3, 3])\t\t\trequires_grad = False\n",
      "param\t19\tshaped\ttorch.Size([64])\t\t\trequires_grad = False\n",
      "param\t20\tshaped\ttorch.Size([64])\t\t\trequires_grad = False\n",
      "param\t21\tshaped\ttorch.Size([256, 64, 1, 1])\t\t\trequires_grad = False\n",
      "param\t22\tshaped\ttorch.Size([256])\t\t\trequires_grad = False\n",
      "param\t23\tshaped\ttorch.Size([256])\t\t\trequires_grad = False\n",
      "param\t24\tshaped\ttorch.Size([64, 256, 1, 1])\t\t\trequires_grad = False\n",
      "param\t25\tshaped\ttorch.Size([64])\t\t\trequires_grad = False\n",
      "param\t26\tshaped\ttorch.Size([64])\t\t\trequires_grad = False\n",
      "param\t27\tshaped\ttorch.Size([64, 64, 3, 3])\t\t\trequires_grad = False\n",
      "param\t28\tshaped\ttorch.Size([64])\t\t\trequires_grad = False\n",
      "param\t29\tshaped\ttorch.Size([64])\t\t\trequires_grad = False\n",
      "param\t30\tshaped\ttorch.Size([256, 64, 1, 1])\t\t\trequires_grad = False\n",
      "param\t31\tshaped\ttorch.Size([256])\t\t\trequires_grad = False\n",
      "param\t32\tshaped\ttorch.Size([256])\t\t\trequires_grad = False\n",
      "param\t33\tshaped\ttorch.Size([128, 256, 1, 1])\t\t\trequires_grad = False\n",
      "param\t34\tshaped\ttorch.Size([128])\t\t\trequires_grad = False\n",
      "param\t35\tshaped\ttorch.Size([128])\t\t\trequires_grad = False\n",
      "param\t36\tshaped\ttorch.Size([128, 128, 3, 3])\t\t\trequires_grad = False\n",
      "param\t37\tshaped\ttorch.Size([128])\t\t\trequires_grad = False\n",
      "param\t38\tshaped\ttorch.Size([128])\t\t\trequires_grad = False\n",
      "param\t39\tshaped\ttorch.Size([512, 128, 1, 1])\t\t\trequires_grad = False\n",
      "param\t40\tshaped\ttorch.Size([512])\t\t\trequires_grad = False\n",
      "param\t41\tshaped\ttorch.Size([512])\t\t\trequires_grad = False\n",
      "param\t42\tshaped\ttorch.Size([512, 256, 1, 1])\t\t\trequires_grad = False\n",
      "param\t43\tshaped\ttorch.Size([512])\t\t\trequires_grad = False\n",
      "param\t44\tshaped\ttorch.Size([512])\t\t\trequires_grad = False\n",
      "param\t45\tshaped\ttorch.Size([128, 512, 1, 1])\t\t\trequires_grad = False\n",
      "param\t46\tshaped\ttorch.Size([128])\t\t\trequires_grad = False\n",
      "param\t47\tshaped\ttorch.Size([128])\t\t\trequires_grad = False\n",
      "param\t48\tshaped\ttorch.Size([128, 128, 3, 3])\t\t\trequires_grad = False\n",
      "param\t49\tshaped\ttorch.Size([128])\t\t\trequires_grad = False\n",
      "param\t50\tshaped\ttorch.Size([128])\t\t\trequires_grad = False\n",
      "param\t51\tshaped\ttorch.Size([512, 128, 1, 1])\t\t\trequires_grad = False\n",
      "param\t52\tshaped\ttorch.Size([512])\t\t\trequires_grad = False\n",
      "param\t53\tshaped\ttorch.Size([512])\t\t\trequires_grad = False\n",
      "param\t54\tshaped\ttorch.Size([128, 512, 1, 1])\t\t\trequires_grad = False\n",
      "param\t55\tshaped\ttorch.Size([128])\t\t\trequires_grad = False\n",
      "param\t56\tshaped\ttorch.Size([128])\t\t\trequires_grad = False\n",
      "param\t57\tshaped\ttorch.Size([128, 128, 3, 3])\t\t\trequires_grad = False\n",
      "param\t58\tshaped\ttorch.Size([128])\t\t\trequires_grad = False\n",
      "param\t59\tshaped\ttorch.Size([128])\t\t\trequires_grad = False\n",
      "param\t60\tshaped\ttorch.Size([512, 128, 1, 1])\t\t\trequires_grad = False\n",
      "param\t61\tshaped\ttorch.Size([512])\t\t\trequires_grad = False\n",
      "param\t62\tshaped\ttorch.Size([512])\t\t\trequires_grad = False\n",
      "param\t63\tshaped\ttorch.Size([128, 512, 1, 1])\t\t\trequires_grad = False\n",
      "param\t64\tshaped\ttorch.Size([128])\t\t\trequires_grad = False\n",
      "param\t65\tshaped\ttorch.Size([128])\t\t\trequires_grad = False\n",
      "param\t66\tshaped\ttorch.Size([128, 128, 3, 3])\t\t\trequires_grad = False\n",
      "param\t67\tshaped\ttorch.Size([128])\t\t\trequires_grad = False\n",
      "param\t68\tshaped\ttorch.Size([128])\t\t\trequires_grad = False\n",
      "param\t69\tshaped\ttorch.Size([512, 128, 1, 1])\t\t\trequires_grad = False\n",
      "param\t70\tshaped\ttorch.Size([512])\t\t\trequires_grad = False\n",
      "param\t71\tshaped\ttorch.Size([512])\t\t\trequires_grad = False\n",
      "param\t72\tshaped\ttorch.Size([256, 512, 1, 1])\t\t\trequires_grad = False\n",
      "param\t73\tshaped\ttorch.Size([256])\t\t\trequires_grad = False\n",
      "param\t74\tshaped\ttorch.Size([256])\t\t\trequires_grad = False\n",
      "param\t75\tshaped\ttorch.Size([256, 256, 3, 3])\t\t\trequires_grad = False\n",
      "param\t76\tshaped\ttorch.Size([256])\t\t\trequires_grad = False\n",
      "param\t77\tshaped\ttorch.Size([256])\t\t\trequires_grad = False\n",
      "param\t78\tshaped\ttorch.Size([1024, 256, 1, 1])\t\t\trequires_grad = False\n",
      "param\t79\tshaped\ttorch.Size([1024])\t\t\trequires_grad = False\n",
      "param\t80\tshaped\ttorch.Size([1024])\t\t\trequires_grad = False\n",
      "param\t81\tshaped\ttorch.Size([1024, 512, 1, 1])\t\t\trequires_grad = False\n",
      "param\t82\tshaped\ttorch.Size([1024])\t\t\trequires_grad = False\n",
      "param\t83\tshaped\ttorch.Size([1024])\t\t\trequires_grad = False\n",
      "param\t84\tshaped\ttorch.Size([256, 1024, 1, 1])\t\t\trequires_grad = False\n",
      "param\t85\tshaped\ttorch.Size([256])\t\t\trequires_grad = False\n",
      "param\t86\tshaped\ttorch.Size([256])\t\t\trequires_grad = False\n",
      "param\t87\tshaped\ttorch.Size([256, 256, 3, 3])\t\t\trequires_grad = False\n",
      "param\t88\tshaped\ttorch.Size([256])\t\t\trequires_grad = False\n",
      "param\t89\tshaped\ttorch.Size([256])\t\t\trequires_grad = False\n",
      "param\t90\tshaped\ttorch.Size([1024, 256, 1, 1])\t\t\trequires_grad = False\n",
      "param\t91\tshaped\ttorch.Size([1024])\t\t\trequires_grad = False\n",
      "param\t92\tshaped\ttorch.Size([1024])\t\t\trequires_grad = False\n",
      "param\t93\tshaped\ttorch.Size([256, 1024, 1, 1])\t\t\trequires_grad = False\n",
      "param\t94\tshaped\ttorch.Size([256])\t\t\trequires_grad = False\n",
      "param\t95\tshaped\ttorch.Size([256])\t\t\trequires_grad = False\n",
      "param\t96\tshaped\ttorch.Size([256, 256, 3, 3])\t\t\trequires_grad = False\n",
      "param\t97\tshaped\ttorch.Size([256])\t\t\trequires_grad = False\n",
      "param\t98\tshaped\ttorch.Size([256])\t\t\trequires_grad = False\n",
      "param\t99\tshaped\ttorch.Size([1024, 256, 1, 1])\t\t\trequires_grad = False\n",
      "param\t100\tshaped\ttorch.Size([1024])\t\t\trequires_grad = False\n",
      "param\t101\tshaped\ttorch.Size([1024])\t\t\trequires_grad = False\n",
      "param\t102\tshaped\ttorch.Size([256, 1024, 1, 1])\t\t\trequires_grad = False\n",
      "param\t103\tshaped\ttorch.Size([256])\t\t\trequires_grad = False\n",
      "param\t104\tshaped\ttorch.Size([256])\t\t\trequires_grad = False\n",
      "param\t105\tshaped\ttorch.Size([256, 256, 3, 3])\t\t\trequires_grad = False\n",
      "param\t106\tshaped\ttorch.Size([256])\t\t\trequires_grad = False\n",
      "param\t107\tshaped\ttorch.Size([256])\t\t\trequires_grad = False\n",
      "param\t108\tshaped\ttorch.Size([1024, 256, 1, 1])\t\t\trequires_grad = False\n",
      "param\t109\tshaped\ttorch.Size([1024])\t\t\trequires_grad = False\n",
      "param\t110\tshaped\ttorch.Size([1024])\t\t\trequires_grad = False\n",
      "param\t111\tshaped\ttorch.Size([256, 1024, 1, 1])\t\t\trequires_grad = False\n",
      "param\t112\tshaped\ttorch.Size([256])\t\t\trequires_grad = False\n",
      "param\t113\tshaped\ttorch.Size([256])\t\t\trequires_grad = False\n",
      "param\t114\tshaped\ttorch.Size([256, 256, 3, 3])\t\t\trequires_grad = False\n",
      "param\t115\tshaped\ttorch.Size([256])\t\t\trequires_grad = False\n",
      "param\t116\tshaped\ttorch.Size([256])\t\t\trequires_grad = False\n",
      "param\t117\tshaped\ttorch.Size([1024, 256, 1, 1])\t\t\trequires_grad = False\n",
      "param\t118\tshaped\ttorch.Size([1024])\t\t\trequires_grad = False\n",
      "param\t119\tshaped\ttorch.Size([1024])\t\t\trequires_grad = False\n",
      "param\t120\tshaped\ttorch.Size([256, 1024, 1, 1])\t\t\trequires_grad = False\n",
      "param\t121\tshaped\ttorch.Size([256])\t\t\trequires_grad = False\n",
      "param\t122\tshaped\ttorch.Size([256])\t\t\trequires_grad = False\n",
      "param\t123\tshaped\ttorch.Size([256, 256, 3, 3])\t\t\trequires_grad = False\n",
      "param\t124\tshaped\ttorch.Size([256])\t\t\trequires_grad = False\n",
      "param\t125\tshaped\ttorch.Size([256])\t\t\trequires_grad = False\n",
      "param\t126\tshaped\ttorch.Size([1024, 256, 1, 1])\t\t\trequires_grad = False\n",
      "param\t127\tshaped\ttorch.Size([1024])\t\t\trequires_grad = False\n",
      "param\t128\tshaped\ttorch.Size([1024])\t\t\trequires_grad = False\n",
      "param\t129\tshaped\ttorch.Size([512, 1024, 1, 1])\t\t\trequires_grad = False\n",
      "param\t130\tshaped\ttorch.Size([512])\t\t\trequires_grad = False\n",
      "param\t131\tshaped\ttorch.Size([512])\t\t\trequires_grad = False\n",
      "param\t132\tshaped\ttorch.Size([512, 512, 3, 3])\t\t\trequires_grad = False\n",
      "param\t133\tshaped\ttorch.Size([512])\t\t\trequires_grad = False\n",
      "param\t134\tshaped\ttorch.Size([512])\t\t\trequires_grad = False\n",
      "param\t135\tshaped\ttorch.Size([2048, 512, 1, 1])\t\t\trequires_grad = False\n",
      "param\t136\tshaped\ttorch.Size([2048])\t\t\trequires_grad = False\n",
      "param\t137\tshaped\ttorch.Size([2048])\t\t\trequires_grad = False\n",
      "param\t138\tshaped\ttorch.Size([2048, 1024, 1, 1])\t\t\trequires_grad = False\n",
      "param\t139\tshaped\ttorch.Size([2048])\t\t\trequires_grad = False\n",
      "param\t140\tshaped\ttorch.Size([2048])\t\t\trequires_grad = False\n",
      "param\t141\tshaped\ttorch.Size([512, 2048, 1, 1])\t\t\trequires_grad = False\n",
      "param\t142\tshaped\ttorch.Size([512])\t\t\trequires_grad = False\n",
      "param\t143\tshaped\ttorch.Size([512])\t\t\trequires_grad = False\n",
      "param\t144\tshaped\ttorch.Size([512, 512, 3, 3])\t\t\trequires_grad = False\n",
      "param\t145\tshaped\ttorch.Size([512])\t\t\trequires_grad = False\n",
      "param\t146\tshaped\ttorch.Size([512])\t\t\trequires_grad = False\n",
      "param\t147\tshaped\ttorch.Size([2048, 512, 1, 1])\t\t\trequires_grad = False\n",
      "param\t148\tshaped\ttorch.Size([2048])\t\t\trequires_grad = False\n",
      "param\t149\tshaped\ttorch.Size([2048])\t\t\trequires_grad = False\n",
      "param\t150\tshaped\ttorch.Size([512, 2048, 1, 1])\t\t\trequires_grad = False\n",
      "param\t151\tshaped\ttorch.Size([512])\t\t\trequires_grad = False\n",
      "param\t152\tshaped\ttorch.Size([512])\t\t\trequires_grad = False\n",
      "param\t153\tshaped\ttorch.Size([512, 512, 3, 3])\t\t\trequires_grad = False\n",
      "param\t154\tshaped\ttorch.Size([512])\t\t\trequires_grad = False\n",
      "param\t155\tshaped\ttorch.Size([512])\t\t\trequires_grad = False\n",
      "param\t156\tshaped\ttorch.Size([2048, 512, 1, 1])\t\t\trequires_grad = False\n",
      "param\t157\tshaped\ttorch.Size([2048])\t\t\trequires_grad = False\n",
      "param\t158\tshaped\ttorch.Size([2048])\t\t\trequires_grad = False\n",
      "param\t159\tshaped\ttorch.Size([10, 2048])\t\t\trequires_grad = True\n",
      "param\t160\tshaped\ttorch.Size([10])\t\t\trequires_grad = True\n"
     ]
    }
   ],
   "source": [
    "for param in model.parameters():\n",
    "    param.requires_grad = False\n",
    "\n",
    "model.fc = torch.nn.Linear(model.fc.in_features, 10)\n",
    "for i, param in enumerate(model.parameters()):\n",
    "    print(f\"param\\t{i}\\tshaped\\t{param.shape}\\t\\t\\trequires_grad = {param.requires_grad}\")"
   ]
  },
  {
   "cell_type": "code",
   "execution_count": 14,
   "id": "9d172144",
   "metadata": {},
   "outputs": [],
   "source": [
    "model.heads.head = torch.nn.Linear(\n",
    "    in_features=model.heads.head.in_features,\n",
    "    out_features=10,\n",
    "    bias=True,\n",
    ")"
   ]
  },
  {
   "cell_type": "code",
   "execution_count": 20,
   "id": "e61ab016",
   "metadata": {},
   "outputs": [],
   "source": [
    "a = children_list[-2].children()"
   ]
  },
  {
   "cell_type": "code",
   "execution_count": null,
   "id": "2792cf6c",
   "metadata": {},
   "outputs": [],
   "source": []
  }
 ],
 "metadata": {
  "kernelspec": {
   "display_name": "lightningML",
   "language": "python",
   "name": "python3"
  },
  "language_info": {
   "codemirror_mode": {
    "name": "ipython",
    "version": 3
   },
   "file_extension": ".py",
   "mimetype": "text/x-python",
   "name": "python",
   "nbconvert_exporter": "python",
   "pygments_lexer": "ipython3",
   "version": "3.9.21"
  }
 },
 "nbformat": 4,
 "nbformat_minor": 5
}
